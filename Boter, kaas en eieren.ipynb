{
 "cells": [
  {
   "cell_type": "code",
   "execution_count": 8,
   "id": "c40a035a",
   "metadata": {},
   "outputs": [],
   "source": [
    "from IPython.display import clear_output"
   ]
  },
  {
   "cell_type": "code",
   "execution_count": 65,
   "id": "c6ab90bb",
   "metadata": {},
   "outputs": [],
   "source": [
    "board = ['#', '  ', '  ', '  ', '  ', '  ', '  ', '  ', '  ', '  ']"
   ]
  },
  {
   "cell_type": "code",
   "execution_count": 68,
   "id": "1d655b64",
   "metadata": {},
   "outputs": [],
   "source": [
    "def display_board():\n",
    "    \n",
    "    clear_output()\n",
    "    print(f\"{board[1]} | {board[2]} | {board[3]}\")\n",
    "    print(\"------------\")\n",
    "    print(f\"{board[4]} | {board[5]} | {board[6]}\")\n",
    "    print(\"------------\")\n",
    "    print(f\"{board[7]} | {board[8]} | {board[9]}\")"
   ]
  },
  {
   "cell_type": "code",
   "execution_count": 69,
   "id": "60f5a6d3",
   "metadata": {},
   "outputs": [
    {
     "name": "stdout",
     "output_type": "stream",
     "text": [
      "   |    |   \n",
      "------------\n",
      "   |    |   \n",
      "------------\n",
      "   |    |   \n"
     ]
    }
   ],
   "source": [
    "display_board()"
   ]
  },
  {
   "cell_type": "code",
   "execution_count": 45,
   "id": "6f07d90f",
   "metadata": {},
   "outputs": [],
   "source": [
    "player_1, player_2 = '❌', '⭕️'"
   ]
  },
  {
   "cell_type": "code",
   "execution_count": 104,
   "id": "c0bb0d08",
   "metadata": {},
   "outputs": [],
   "source": [
    "def player_choice(your_turn):\n",
    "    choice = int(input(f\"Player {your_turn()}, Enter a number: \"))\n",
    "    return choice"
   ]
  },
  {
   "cell_type": "code",
   "execution_count": 105,
   "id": "578fc719",
   "metadata": {},
   "outputs": [
    {
     "name": "stdout",
     "output_type": "stream",
     "text": [
      "Player 1, Enter a number: 4\n"
     ]
    },
    {
     "data": {
      "text/plain": [
       "4"
      ]
     },
     "execution_count": 105,
     "metadata": {},
     "output_type": "execute_result"
    }
   ],
   "source": [
    "player_choice(player_turn)"
   ]
  },
  {
   "cell_type": "code",
   "execution_count": 70,
   "id": "bd18b15c",
   "metadata": {},
   "outputs": [],
   "source": [
    "def player_move():\n",
    "    \n",
    "    board[player_choice()] = player_1\n"
   ]
  },
  {
   "cell_type": "code",
   "execution_count": 75,
   "id": "89a64f33",
   "metadata": {},
   "outputs": [
    {
     "name": "stdout",
     "output_type": "stream",
     "text": [
      "Enter a number: 5\n"
     ]
    }
   ],
   "source": [
    "player_move()"
   ]
  },
  {
   "cell_type": "code",
   "execution_count": 76,
   "id": "3be49f35",
   "metadata": {},
   "outputs": [
    {
     "name": "stdout",
     "output_type": "stream",
     "text": [
      "   |    | ❌\n",
      "------------\n",
      "   | ❌ |   \n",
      "------------\n",
      "❌ |    |   \n"
     ]
    }
   ],
   "source": [
    "display_board()"
   ]
  },
  {
   "cell_type": "code",
   "execution_count": 87,
   "id": "0c054034",
   "metadata": {},
   "outputs": [],
   "source": [
    "def win_check(board, player):\n",
    "   \n",
    "    #rows\n",
    "    return ((board[1] == player and board[2] == player and board[3] == player) or \n",
    "    (board[4] == player and board[5] == player and board[6] == player) or\n",
    "    (board[7] == player and board[8] == player and board[9] == player) or\n",
    "\n",
    "    (board[1] == player and board[4] == player and board[7] == player) or\n",
    "    (board[2] == player and board[5] == player and board[8] == player) or\n",
    "    (board[3] == player and board[6] == player and board[9] == player) or\n",
    "\n",
    "    (board[1] == player and board[5] == player and board[9] == player) or\n",
    "    (board[3] == player and board[5] == player and board[7] == player))\n",
    "    "
   ]
  },
  {
   "cell_type": "code",
   "execution_count": 88,
   "id": "37be7bf8",
   "metadata": {},
   "outputs": [
    {
     "name": "stdout",
     "output_type": "stream",
     "text": [
      "True\n"
     ]
    }
   ],
   "source": [
    "result = win_check(board, player_1)\n",
    "print(result)"
   ]
  },
  {
   "cell_type": "code",
   "execution_count": 96,
   "id": "466e458c",
   "metadata": {},
   "outputs": [],
   "source": [
    "player = [1, 2]\n",
    "def player_turn():\n",
    "    player_turn = player[0]\n",
    "    player.reverse()\n",
    "    if player_turn == 1:\n",
    "        return player_1\n",
    "    else:\n",
    "        return player_2"
   ]
  },
  {
   "cell_type": "code",
   "execution_count": 3,
   "id": "04720bcf",
   "metadata": {},
   "outputs": [],
   "source": [
    "turn = 0\n",
    "def player_turn():\n",
    "        turn += 1\n",
    "        if turn % 2:\n",
    "            return 2\n",
    "        else:\n",
    "            return 1"
   ]
  },
  {
   "cell_type": "code",
   "execution_count": 4,
   "id": "26a15716",
   "metadata": {},
   "outputs": [
    {
     "ename": "UnboundLocalError",
     "evalue": "local variable 'turn' referenced before assignment",
     "output_type": "error",
     "traceback": [
      "\u001b[0;31m---------------------------------------------------------------------------\u001b[0m",
      "\u001b[0;31mUnboundLocalError\u001b[0m                         Traceback (most recent call last)",
      "\u001b[0;32m/var/folders/jh/r7p6c11d0375yvybr4frgry40000gn/T/ipykernel_79585/2806346229.py\u001b[0m in \u001b[0;36m<module>\u001b[0;34m\u001b[0m\n\u001b[0;32m----> 1\u001b[0;31m \u001b[0mplayer_turn\u001b[0m\u001b[0;34m(\u001b[0m\u001b[0;34m)\u001b[0m\u001b[0;34m\u001b[0m\u001b[0;34m\u001b[0m\u001b[0m\n\u001b[0m",
      "\u001b[0;32m/var/folders/jh/r7p6c11d0375yvybr4frgry40000gn/T/ipykernel_79585/222915258.py\u001b[0m in \u001b[0;36mplayer_turn\u001b[0;34m()\u001b[0m\n\u001b[1;32m      1\u001b[0m \u001b[0mturn\u001b[0m \u001b[0;34m=\u001b[0m \u001b[0;36m0\u001b[0m\u001b[0;34m\u001b[0m\u001b[0;34m\u001b[0m\u001b[0m\n\u001b[1;32m      2\u001b[0m \u001b[0;32mdef\u001b[0m \u001b[0mplayer_turn\u001b[0m\u001b[0;34m(\u001b[0m\u001b[0;34m)\u001b[0m\u001b[0;34m:\u001b[0m\u001b[0;34m\u001b[0m\u001b[0;34m\u001b[0m\u001b[0m\n\u001b[0;32m----> 3\u001b[0;31m         \u001b[0mturn\u001b[0m \u001b[0;34m+=\u001b[0m \u001b[0;36m1\u001b[0m\u001b[0;34m\u001b[0m\u001b[0;34m\u001b[0m\u001b[0m\n\u001b[0m\u001b[1;32m      4\u001b[0m         \u001b[0;32mif\u001b[0m \u001b[0mturn\u001b[0m \u001b[0;34m%\u001b[0m \u001b[0;36m2\u001b[0m\u001b[0;34m:\u001b[0m\u001b[0;34m\u001b[0m\u001b[0;34m\u001b[0m\u001b[0m\n\u001b[1;32m      5\u001b[0m             \u001b[0;32mreturn\u001b[0m \u001b[0;36m2\u001b[0m\u001b[0;34m\u001b[0m\u001b[0;34m\u001b[0m\u001b[0m\n",
      "\u001b[0;31mUnboundLocalError\u001b[0m: local variable 'turn' referenced before assignment"
     ]
    }
   ],
   "source": [
    "player_turn()"
   ]
  },
  {
   "cell_type": "code",
   "execution_count": null,
   "id": "073e136a",
   "metadata": {},
   "outputs": [],
   "source": []
  }
 ],
 "metadata": {
  "kernelspec": {
   "display_name": "Python 3 (ipykernel)",
   "language": "python",
   "name": "python3"
  },
  "language_info": {
   "codemirror_mode": {
    "name": "ipython",
    "version": 3
   },
   "file_extension": ".py",
   "mimetype": "text/x-python",
   "name": "python",
   "nbconvert_exporter": "python",
   "pygments_lexer": "ipython3",
   "version": "3.9.7"
  }
 },
 "nbformat": 4,
 "nbformat_minor": 5
}
